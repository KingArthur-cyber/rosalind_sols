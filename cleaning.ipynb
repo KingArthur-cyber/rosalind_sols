{
 "cells": [
  {
   "cell_type": "code",
   "execution_count": 1,
   "id": "06196240",
   "metadata": {},
   "outputs": [],
   "source": [
    "import pandas as pd"
   ]
  },
  {
   "cell_type": "code",
   "execution_count": 9,
   "id": "e4bea320",
   "metadata": {},
   "outputs": [],
   "source": [
    "df = pd.read_csv('C:\\\\Users\\\\User\\\\Desktop\\\\Project\\\\hmp2_metadata.csv')"
   ]
  },
  {
   "cell_type": "code",
   "execution_count": 10,
   "id": "f8cee3fb",
   "metadata": {},
   "outputs": [],
   "source": [
    "df1 = df.loc[df['diagnosis'] == 'CD']\n",
    "    "
   ]
  },
  {
   "cell_type": "code",
   "execution_count": 43,
   "id": "cb9c790f",
   "metadata": {},
   "outputs": [],
   "source": [
    "df1 = df1.drop_duplicates(subset='Participant ID', keep = 'first')\n",
    "df1 = df1.head(10)\n",
    "df1.to_csv('CD.csv',index = False)"
   ]
  },
  {
   "cell_type": "code",
   "execution_count": 52,
   "id": "5e6773a5",
   "metadata": {},
   "outputs": [],
   "source": [
    "df2 = df.loc[df['diagnosis'] == 'UC']\n",
    "df2 = df2.drop_duplicates(subset='Participant ID', keep = 'first')\n",
    "df2 = df2.head(10)\n",
    "df2.to_csv('UC.csv',index = False)"
   ]
  },
  {
   "cell_type": "code",
   "execution_count": null,
   "id": "a3e7a855",
   "metadata": {},
   "outputs": [],
   "source": []
  },
  {
   "cell_type": "code",
   "execution_count": 45,
   "id": "e6cd407c",
   "metadata": {},
   "outputs": [],
   "source": [
    "df3 = df.loc[df['diagnosis'] == 'nonIBD']\n",
    "df3 = df3.drop_duplicates(subset='Participant ID', keep = 'first')\n",
    "df3 = df3.head(10)\n",
    "df3.to_csv('nonIBD.csv',index = False)"
   ]
  },
  {
   "cell_type": "code",
   "execution_count": 49,
   "id": "c6a76a70",
   "metadata": {},
   "outputs": [],
   "source": [
    "df4 = pd.read_csv('CD.csv')\n",
    "with open('CD.txt','w') as f:\n",
    "    f.write('\\n'.join(df4['Project']))"
   ]
  },
  {
   "cell_type": "code",
   "execution_count": 53,
   "id": "a09e3778",
   "metadata": {},
   "outputs": [],
   "source": [
    "df5 = pd.read_csv('UC.csv')\n",
    "with open('UC.txt','w') as f:\n",
    "        f.write('\\n'.join(df5['Project']))"
   ]
  },
  {
   "cell_type": "code",
   "execution_count": 54,
   "id": "73b9178b",
   "metadata": {},
   "outputs": [],
   "source": [
    "df6 = pd.read_csv('nonIBD.csv')\n",
    "with open('nonIBD.txt','w') as f:\n",
    "        f.write('\\n'.join(df5['Project']))"
   ]
  },
  {
   "cell_type": "code",
   "execution_count": null,
   "id": "1d00290b",
   "metadata": {},
   "outputs": [],
   "source": []
  }
 ],
 "metadata": {
  "kernelspec": {
   "display_name": "Python 3 (ipykernel)",
   "language": "python",
   "name": "python3"
  },
  "language_info": {
   "codemirror_mode": {
    "name": "ipython",
    "version": 3
   },
   "file_extension": ".py",
   "mimetype": "text/x-python",
   "name": "python",
   "nbconvert_exporter": "python",
   "pygments_lexer": "ipython3",
   "version": "3.10.6"
  }
 },
 "nbformat": 4,
 "nbformat_minor": 5
}
